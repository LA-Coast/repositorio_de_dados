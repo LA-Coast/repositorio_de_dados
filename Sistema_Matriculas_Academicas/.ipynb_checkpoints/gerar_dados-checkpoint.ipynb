{
 "cells": [
  {
   "cell_type": "code",
   "execution_count": null,
   "id": "1c8e8181-aa1d-45a8-b913-2f99cd68ea8f",
   "metadata": {},
   "outputs": [],
   "source": [
    "import random\n",
    "import string\n",
    "\n",
    "# Gerar matrícula aleatória (combinação de letras e números)\n",
    "def gerar_matricula():\n",
    "    letras = string.ascii_letters\n",
    "    numeros = string.digits\n",
    "    return ''.join(random.choice(letras + numeros) for _ in range(10))\n",
    "\n",
    "# Valores possíveis para cada coluna\n",
    "cursos = [1, 2, 3, 4, 5]\n",
    "turnos = [1, 2, 3]\n",
    "anos = [2021, 2022, 2023]\n",
    "semestres = [1, 2]\n",
    "ingressos = [1, 2, 3]\n",
    "ra_valores = list(range(1, 36))\n",
    "renda_valores = [1, 2, 3, 4]\n",
    "etnia_valores = [1, 2, 3, 4, 5]\n",
    "idades = list(range(16, 101))\n",
    "sexos = ['M', 'F']\n",
    "\n",
    "# Gerar dados aleatórios para cada linha\n",
    "num_linhas = 500  # Altere isso para o número desejado de linhas\n",
    "dados = []\n",
    "for _ in range(num_linhas):\n",
    "    linha = {\n",
    "        'matricula': gerar_matricula(),\n",
    "        'curso': random.choice(cursos),\n",
    "        'ano': random.choice(anos),\n",
    "        'semestre': random.choice(semestres),\n",
    "        'turno': random.choice(turnos),\n",
    "        'ingresso': random.choice(ingressos),\n",
    "        'ra': random.choice(ra_valores),\n",
    "        'renda': random.choice(renda_valores),\n",
    "        'idade': random.choice(idades),\n",
    "        'etnia': random.choice(etnia_valores),\n",
    "        'sexo': random.choice(sexos)\n",
    "    }\n",
    "    dados.append(linha)\n",
    "\n",
    "# Imprimir os dados gerados\n",
    "for linha in dados:\n",
    "    print(linha)\n"
   ]
  }
 ],
 "metadata": {
  "kernelspec": {
   "display_name": "Python 3 (ipykernel)",
   "language": "python",
   "name": "python3"
  },
  "language_info": {
   "codemirror_mode": {
    "name": "ipython",
    "version": 3
   },
   "file_extension": ".py",
   "mimetype": "text/x-python",
   "name": "python",
   "nbconvert_exporter": "python",
   "pygments_lexer": "ipython3",
   "version": "3.11.7"
  }
 },
 "nbformat": 4,
 "nbformat_minor": 5
}
